{
 "cells": [
  {
   "cell_type": "markdown",
   "id": "c9f8dc2a-5562-477e-9e92-c00f1c9751da",
   "metadata": {},
   "source": [
    "# Runs Datalab on [emotion recognition](https://huggingface.co/datasets/dair-ai/emotion) dataset"
   ]
  },
  {
   "cell_type": "code",
   "execution_count": 1,
   "id": "75789315-af11-405c-8e6a-35e55ef20ff9",
   "metadata": {
    "tags": []
   },
   "outputs": [],
   "source": [
    "from datasets import load_dataset, concatenate_datasets\n",
    "\n",
    "import pandas as pd\n",
    "import numpy as np\n",
    "from sklearn.model_selection import cross_val_predict\n",
    "from sklearn.metrics import classification_report\n",
    "from sklearn.linear_model import LogisticRegression\n",
    "from sentence_transformers import SentenceTransformer\n",
    "\n",
    "from cleanlab import Datalab"
   ]
  },
  {
   "cell_type": "code",
   "execution_count": 2,
   "id": "08f22814-8292-4d79-9599-ea7057ef1023",
   "metadata": {
    "tags": []
   },
   "outputs": [],
   "source": [
    "pd.set_option(\"display.max_colwidth\", None) "
   ]
  },
  {
   "cell_type": "code",
   "execution_count": 3,
   "id": "20b1a524-7013-47ed-b74a-68227bed2ec4",
   "metadata": {
    "tags": []
   },
   "outputs": [
    {
     "name": "stderr",
     "output_type": "stream",
     "text": [
      "No config specified, defaulting to: emotion/split\n",
      "Found cached dataset emotion (/Users/sanjana/.cache/huggingface/datasets/dair-ai___emotion/split/1.0.0/cca5efe2dfeb58c1d098e0f9eeb200e9927d889b5a03c67097275dfb5fe463bd)\n"
     ]
    },
    {
     "data": {
      "application/vnd.jupyter.widget-view+json": {
       "model_id": "62964f80821040d4806db946c7cbbf69",
       "version_major": 2,
       "version_minor": 0
      },
      "text/plain": [
       "  0%|          | 0/3 [00:00<?, ?it/s]"
      ]
     },
     "metadata": {},
     "output_type": "display_data"
    }
   ],
   "source": [
    "dataset_dict = load_dataset(\"dair-ai/emotion\")"
   ]
  },
  {
   "cell_type": "code",
   "execution_count": 4,
   "id": "7ec89180-92f8-45b7-a566-e466ea7d4645",
   "metadata": {
    "tags": []
   },
   "outputs": [
    {
     "data": {
      "text/plain": [
       "DatasetDict({\n",
       "    train: Dataset({\n",
       "        features: ['text', 'label'],\n",
       "        num_rows: 16000\n",
       "    })\n",
       "    validation: Dataset({\n",
       "        features: ['text', 'label'],\n",
       "        num_rows: 2000\n",
       "    })\n",
       "    test: Dataset({\n",
       "        features: ['text', 'label'],\n",
       "        num_rows: 2000\n",
       "    })\n",
       "})"
      ]
     },
     "execution_count": 4,
     "metadata": {},
     "output_type": "execute_result"
    }
   ],
   "source": [
    "dataset_dict"
   ]
  },
  {
   "cell_type": "code",
   "execution_count": 5,
   "id": "32b5e1d0-6b6b-4b2c-a644-5c84500fb7ec",
   "metadata": {
    "tags": []
   },
   "outputs": [
    {
     "data": {
      "text/plain": [
       "Dataset({\n",
       "    features: ['text', 'label'],\n",
       "    num_rows: 20000\n",
       "})"
      ]
     },
     "execution_count": 5,
     "metadata": {},
     "output_type": "execute_result"
    }
   ],
   "source": [
    "dataset = concatenate_datasets([dataset for dataset in dataset_dict.values()])\n",
    "dataset"
   ]
  },
  {
   "cell_type": "code",
   "execution_count": 6,
   "id": "6635f03f-6082-4ee1-9705-5bda89b97e1a",
   "metadata": {
    "tags": []
   },
   "outputs": [
    {
     "data": {
      "text/plain": [
       "{'text': Value(dtype='string', id=None),\n",
       " 'label': ClassLabel(names=['sadness', 'joy', 'love', 'anger', 'fear', 'surprise'], id=None)}"
      ]
     },
     "execution_count": 6,
     "metadata": {},
     "output_type": "execute_result"
    }
   ],
   "source": [
    "dataset.features"
   ]
  },
  {
   "cell_type": "code",
   "execution_count": 7,
   "id": "9caf073b-465a-49ba-bd3b-2634ecd953b9",
   "metadata": {
    "tags": []
   },
   "outputs": [
    {
     "data": {
      "text/plain": [
       "{'text': 'i didnt feel humiliated', 'label': 0}"
      ]
     },
     "execution_count": 7,
     "metadata": {},
     "output_type": "execute_result"
    }
   ],
   "source": [
    "dataset[0]"
   ]
  },
  {
   "cell_type": "markdown",
   "id": "06644b84-a0ae-41f0-8743-8e7b82509451",
   "metadata": {
    "tags": []
   },
   "source": [
    "### Get Embeddings"
   ]
  },
  {
   "cell_type": "code",
   "execution_count": 8,
   "id": "9f2cd6fe-a046-4dc9-b0c8-81e21194c03f",
   "metadata": {
    "tags": []
   },
   "outputs": [],
   "source": [
    "raw_texts = [dataset[i]['text'] for i in range(len(dataset))]\n",
    "labels = [dataset[i]['label'] for i in range(len(dataset))]"
   ]
  },
  {
   "cell_type": "code",
   "execution_count": 9,
   "id": "020d2fd0-df5b-4626-bdd2-04704f0c5a6b",
   "metadata": {
    "tags": []
   },
   "outputs": [],
   "source": [
    "em_model = SentenceTransformer('all-MiniLM-L6-v2')\n",
    "text_embeddings = em_model.encode(raw_texts)"
   ]
  },
  {
   "cell_type": "code",
   "execution_count": 10,
   "id": "f13075ae-7846-4f58-9fbe-82773c67bd7a",
   "metadata": {
    "tags": []
   },
   "outputs": [
    {
     "data": {
      "text/plain": [
       "(20000, 384)"
      ]
     },
     "execution_count": 10,
     "metadata": {},
     "output_type": "execute_result"
    }
   ],
   "source": [
    "text_embeddings.shape"
   ]
  },
  {
   "cell_type": "markdown",
   "id": "ac3fce08-4ac8-4c92-af65-37457ba04e6d",
   "metadata": {},
   "source": [
    "### Get out of sample pred_probs using cross validation"
   ]
  },
  {
   "cell_type": "code",
   "execution_count": 11,
   "id": "df42edf4-f46f-4a01-96b6-c0b40910fef6",
   "metadata": {
    "tags": []
   },
   "outputs": [],
   "source": [
    "model = LogisticRegression(max_iter=400)\n",
    "pred_probs = cross_val_predict(model, text_embeddings, labels, method=\"predict_proba\")"
   ]
  },
  {
   "cell_type": "code",
   "execution_count": 12,
   "id": "451cd5f3-c2de-416c-9d7b-87410fc6d79a",
   "metadata": {
    "tags": []
   },
   "outputs": [
    {
     "data": {
      "text/plain": [
       "(20000, 6)"
      ]
     },
     "execution_count": 12,
     "metadata": {},
     "output_type": "execute_result"
    }
   ],
   "source": [
    "pred_probs.shape"
   ]
  },
  {
   "cell_type": "markdown",
   "id": "d7c946a9-5d71-4e00-9a27-4a89ba1d6258",
   "metadata": {
    "tags": []
   },
   "source": [
    "### Run Datalab"
   ]
  },
  {
   "cell_type": "code",
   "execution_count": 13,
   "id": "2ad4abe1-6284-4a2e-858f-5abd63e3d9dd",
   "metadata": {
    "tags": []
   },
   "outputs": [
    {
     "name": "stdout",
     "output_type": "stream",
     "text": [
      "Finding label issues ...\n"
     ]
    },
    {
     "name": "stderr",
     "output_type": "stream",
     "text": [
      "2023-04-28 14:23:08.477943: I tensorflow/core/platform/cpu_feature_guard.cc:182] This TensorFlow binary is optimized to use available CPU instructions in performance-critical operations.\n",
      "To enable the following instructions: AVX2 FMA, in other operations, rebuild TensorFlow with the appropriate compiler flags.\n"
     ]
    },
    {
     "name": "stdout",
     "output_type": "stream",
     "text": [
      "huggingface/tokenizers: The current process just got forked, after parallelism has already been used. Disabling parallelism to avoid deadlocks...\n",
      "To disable this warning, you can either:\n",
      "\t- Avoid using `tokenizers` before the fork if possible\n",
      "\t- Explicitly set the environment variable TOKENIZERS_PARALLELISM=(true | false)\n",
      "huggingface/tokenizers: The current process just got forked, after parallelism has already been used. Disabling parallelism to avoid deadlocks...\n",
      "To disable this warning, you can either:\n",
      "\t- Avoid using `tokenizers` before the fork if possible\n",
      "\t- Explicitly set the environment variable TOKENIZERS_PARALLELISM=(true | false)\n",
      "Finding outlier issues ...\n",
      "Fitting OOD estimator based on provided features ...\n",
      "Finding near_duplicate issues ...\n",
      "Audit complete. 3927 issues found in the dataset.\n"
     ]
    }
   ],
   "source": [
    "lab = Datalab(dataset, label_name=\"label\")\n",
    "lab.find_issues(pred_probs=pred_probs, features=text_embeddings)"
   ]
  },
  {
   "cell_type": "markdown",
   "id": "8a91bea3-a0ee-4069-96fc-66ecbf2d4b5b",
   "metadata": {},
   "source": [
    "### Report of all issues found"
   ]
  },
  {
   "cell_type": "code",
   "execution_count": 14,
   "id": "ed5fd63a-ccad-42ea-9c3f-5442db07ac85",
   "metadata": {
    "tags": []
   },
   "outputs": [
    {
     "name": "stdout",
     "output_type": "stream",
     "text": [
      "Here is a summary of the different kinds of issues found in the data:\n",
      "\n",
      "    issue_type    score  num_issues\n",
      "         label 0.782050        3737\n",
      "near_duplicate 0.332089         182\n",
      "       outlier 0.664571           8\n",
      "\n",
      "(Note: A lower score indicates a more severe issue across all examples in the dataset.)\n",
      "\n",
      "\n",
      "----------------------- label issues -----------------------\n",
      "\n",
      "About this issue:\n",
      "\tExamples whose given label is estimated to be potentially incorrect\n",
      "    (e.g. due to annotation error) are flagged as having label issues.\n",
      "    \n",
      "\n",
      "Number of examples with this issue: 3737\n",
      "Overall dataset quality in terms of this issue: : 0.7821\n",
      "\n",
      "Examples representing most severe instances of this issue:\n",
      "       is_label_issue  label_score given_label predicted_label\n",
      "3859             True     0.001196        fear             joy\n",
      "10350            True     0.002418         joy            fear\n",
      "17893            True     0.002462        fear             joy\n",
      "634              True     0.002501        fear             joy\n",
      "4531             True     0.002587         joy         sadness\n",
      "\n",
      "\n",
      "------------------ near_duplicate issues -------------------\n",
      "\n",
      "About this issue:\n",
      "\tA (near) duplicate issue refers to two or more examples in\n",
      "    a dataset that are extremely similar to each other, relative\n",
      "    to the rest of the dataset.  The examples flagged with this issue\n",
      "    may be exactly duplicated, or lie atypically close together when\n",
      "    represented as vectors (i.e. feature embeddings).\n",
      "    \n",
      "\n",
      "Number of examples with this issue: 182\n",
      "Overall dataset quality in terms of this issue: : 0.3321\n",
      "\n",
      "Examples representing most severe instances of this issue:\n",
      "       is_near_duplicate_issue  near_duplicate_score near_duplicate_sets  distance_to_nearest_neighbor\n",
      "16060                     True                   0.0              [8258]                           0.0\n",
      "5905                      True                   0.0             [14926]                           0.0\n",
      "15329                     True                   0.0              [2949]                           0.0\n",
      "15360                     True                   0.0             [18353]                           0.0\n",
      "7669                      True                   0.0             [12562]                           0.0\n",
      "\n",
      "Additional Information: \n",
      "threshold: 0.13\n",
      "\n",
      "\n",
      "---------------------- outlier issues ----------------------\n",
      "\n",
      "About this issue:\n",
      "\tExamples that are very different from the rest of the dataset \n",
      "    (i.e. potentially out-of-distribution or rare/anomalous instances).\n",
      "    \n",
      "\n",
      "Number of examples with this issue: 8\n",
      "Overall dataset quality in terms of this issue: : 0.6646\n",
      "\n",
      "Examples representing most severe instances of this issue:\n",
      "       is_outlier_issue  outlier_score  nearest_neighbor  distance_to_nearest_neighbor\n",
      "12058              True       0.464728              5197                      0.722003\n",
      "7345               True       0.477303              9424                      0.667775\n",
      "11640              True       0.486628             10005                      0.693602\n",
      "19150              True       0.489361              9876                      0.666289\n",
      "2166               True       0.490448             17580                      0.645411\n"
     ]
    }
   ],
   "source": [
    "lab.report()"
   ]
  },
  {
   "cell_type": "markdown",
   "id": "e4a23810-f533-4a27-ad20-a29105c1886b",
   "metadata": {},
   "source": [
    "### Get issue summary"
   ]
  },
  {
   "cell_type": "code",
   "execution_count": 15,
   "id": "50de6212-e330-49f7-8c4e-16b54661e345",
   "metadata": {
    "tags": []
   },
   "outputs": [
    {
     "data": {
      "text/html": [
       "<div>\n",
       "<style scoped>\n",
       "    .dataframe tbody tr th:only-of-type {\n",
       "        vertical-align: middle;\n",
       "    }\n",
       "\n",
       "    .dataframe tbody tr th {\n",
       "        vertical-align: top;\n",
       "    }\n",
       "\n",
       "    .dataframe thead th {\n",
       "        text-align: right;\n",
       "    }\n",
       "</style>\n",
       "<table border=\"1\" class=\"dataframe\">\n",
       "  <thead>\n",
       "    <tr style=\"text-align: right;\">\n",
       "      <th></th>\n",
       "      <th>issue_type</th>\n",
       "      <th>score</th>\n",
       "      <th>num_issues</th>\n",
       "    </tr>\n",
       "  </thead>\n",
       "  <tbody>\n",
       "    <tr>\n",
       "      <th>0</th>\n",
       "      <td>label</td>\n",
       "      <td>0.782050</td>\n",
       "      <td>3737</td>\n",
       "    </tr>\n",
       "    <tr>\n",
       "      <th>1</th>\n",
       "      <td>outlier</td>\n",
       "      <td>0.664571</td>\n",
       "      <td>8</td>\n",
       "    </tr>\n",
       "    <tr>\n",
       "      <th>2</th>\n",
       "      <td>near_duplicate</td>\n",
       "      <td>0.332089</td>\n",
       "      <td>182</td>\n",
       "    </tr>\n",
       "  </tbody>\n",
       "</table>\n",
       "</div>"
      ],
      "text/plain": [
       "       issue_type     score  num_issues\n",
       "0           label  0.782050        3737\n",
       "1         outlier  0.664571           8\n",
       "2  near_duplicate  0.332089         182"
      ]
     },
     "execution_count": 15,
     "metadata": {},
     "output_type": "execute_result"
    }
   ],
   "source": [
    "lab.get_summary()"
   ]
  },
  {
   "cell_type": "markdown",
   "id": "e624510a-17dd-47a9-8daa-76a09fd54509",
   "metadata": {},
   "source": [
    "### near_duplicate\n",
    "Get top near duplicate issues"
   ]
  },
  {
   "cell_type": "code",
   "execution_count": 16,
   "id": "c1412e12-84de-41e9-aad8-de92db02aad7",
   "metadata": {
    "tags": []
   },
   "outputs": [
    {
     "data": {
      "text/html": [
       "<div>\n",
       "<style scoped>\n",
       "    .dataframe tbody tr th:only-of-type {\n",
       "        vertical-align: middle;\n",
       "    }\n",
       "\n",
       "    .dataframe tbody tr th {\n",
       "        vertical-align: top;\n",
       "    }\n",
       "\n",
       "    .dataframe thead th {\n",
       "        text-align: right;\n",
       "    }\n",
       "</style>\n",
       "<table border=\"1\" class=\"dataframe\">\n",
       "  <thead>\n",
       "    <tr style=\"text-align: right;\">\n",
       "      <th></th>\n",
       "      <th>is_near_duplicate_issue</th>\n",
       "      <th>near_duplicate_score</th>\n",
       "      <th>near_duplicate_sets</th>\n",
       "      <th>distance_to_nearest_neighbor</th>\n",
       "    </tr>\n",
       "  </thead>\n",
       "  <tbody>\n",
       "    <tr>\n",
       "      <th>112</th>\n",
       "      <td>True</td>\n",
       "      <td>0.0</td>\n",
       "      <td>[19887]</td>\n",
       "      <td>0.0</td>\n",
       "    </tr>\n",
       "    <tr>\n",
       "      <th>13880</th>\n",
       "      <td>True</td>\n",
       "      <td>0.0</td>\n",
       "      <td>[7333]</td>\n",
       "      <td>0.0</td>\n",
       "    </tr>\n",
       "    <tr>\n",
       "      <th>13236</th>\n",
       "      <td>True</td>\n",
       "      <td>0.0</td>\n",
       "      <td>[9605]</td>\n",
       "      <td>0.0</td>\n",
       "    </tr>\n",
       "    <tr>\n",
       "      <th>12892</th>\n",
       "      <td>True</td>\n",
       "      <td>0.0</td>\n",
       "      <td>[11013]</td>\n",
       "      <td>0.0</td>\n",
       "    </tr>\n",
       "    <tr>\n",
       "      <th>12562</th>\n",
       "      <td>True</td>\n",
       "      <td>0.0</td>\n",
       "      <td>[7669]</td>\n",
       "      <td>0.0</td>\n",
       "    </tr>\n",
       "  </tbody>\n",
       "</table>\n",
       "</div>"
      ],
      "text/plain": [
       "       is_near_duplicate_issue  near_duplicate_score near_duplicate_sets   \n",
       "112                       True                   0.0             [19887]  \\\n",
       "13880                     True                   0.0              [7333]   \n",
       "13236                     True                   0.0              [9605]   \n",
       "12892                     True                   0.0             [11013]   \n",
       "12562                     True                   0.0              [7669]   \n",
       "\n",
       "       distance_to_nearest_neighbor  \n",
       "112                             0.0  \n",
       "13880                           0.0  \n",
       "13236                           0.0  \n",
       "12892                           0.0  \n",
       "12562                           0.0  "
      ]
     },
     "execution_count": 16,
     "metadata": {},
     "output_type": "execute_result"
    }
   ],
   "source": [
    "duplicate_issues = lab.get_issues(\"near_duplicate\")\n",
    "identified_duplicate_issues = duplicate_issues[duplicate_issues['is_near_duplicate_issue'] == True]\n",
    "top_nd = identified_duplicate_issues.sort_values(\"near_duplicate_score\").head()\n",
    "top_nd"
   ]
  },
  {
   "cell_type": "markdown",
   "id": "b6176ed8-9f96-435c-9aab-6d2ce98351c7",
   "metadata": {},
   "source": [
    "View near duplicate sets"
   ]
  },
  {
   "cell_type": "code",
   "execution_count": 17,
   "id": "5f08e4e1-1e78-4720-a584-76cdb77843e8",
   "metadata": {},
   "outputs": [
    {
     "name": "stdout",
     "output_type": "stream",
     "text": [
      "set: 0\n",
      "i feel like some of you have pains and you cannot imagine becoming passionate about the group or the idea that is causing pain\n",
      "i feel like some of you have pains and you cannot imagine becoming passionate about the group or the idea that is causing pain\n",
      "\n",
      "\n",
      "set: 1\n",
      "i feel like i am very passionate about youtube and so id quite like to explain why i think youtube is the next best thing for entertainment\n",
      "i feel like i am very passionate about youtube and so id quite like to explain why i think youtube is the next best thing for entertainment\n",
      "\n",
      "\n",
      "set: 2\n",
      "i feel like a tortured artist when i talk to her\n",
      "i feel like a tortured artist when i talk to her\n",
      "\n",
      "\n",
      "set: 3\n",
      "i cant escape the tears of sadness and just true grief i feel at the loss of my sweet friend and sister\n",
      "i cant escape the tears of sadness and just true grief i feel at the loss of my sweet friend and sister\n",
      "\n",
      "\n",
      "set: 4\n",
      "i feel so weird about it\n",
      "i feel so weird about it\n",
      "\n",
      "\n"
     ]
    }
   ],
   "source": [
    "near_duplicate_sets = []\n",
    "for idx, sets in zip(top_nd.index.tolist(), top_nd['near_duplicate_sets']):\n",
    "    near_duplicate_sets.append([idx] + list(sets))\n",
    "for i, s in enumerate(near_duplicate_sets):\n",
    "    print(f\"set: {i}\")\n",
    "    for idx in s:\n",
    "        print(dataset[int(idx)][\"text\"])\n",
    "    print(\"\\n\")"
   ]
  },
  {
   "cell_type": "markdown",
   "id": "2570c6f0-ef1a-41ec-920f-14c1395d8d87",
   "metadata": {},
   "source": [
    "### label"
   ]
  },
  {
   "cell_type": "code",
   "execution_count": 18,
   "id": "04bb5c11-f381-4b10-a513-761b03a5e445",
   "metadata": {
    "tags": []
   },
   "outputs": [
    {
     "data": {
      "text/html": [
       "<div>\n",
       "<style scoped>\n",
       "    .dataframe tbody tr th:only-of-type {\n",
       "        vertical-align: middle;\n",
       "    }\n",
       "\n",
       "    .dataframe tbody tr th {\n",
       "        vertical-align: top;\n",
       "    }\n",
       "\n",
       "    .dataframe thead th {\n",
       "        text-align: right;\n",
       "    }\n",
       "</style>\n",
       "<table border=\"1\" class=\"dataframe\">\n",
       "  <thead>\n",
       "    <tr style=\"text-align: right;\">\n",
       "      <th></th>\n",
       "      <th>is_label_issue</th>\n",
       "      <th>label_score</th>\n",
       "      <th>given_label</th>\n",
       "      <th>predicted_label</th>\n",
       "    </tr>\n",
       "  </thead>\n",
       "  <tbody>\n",
       "    <tr>\n",
       "      <th>0</th>\n",
       "      <td>False</td>\n",
       "      <td>0.604405</td>\n",
       "      <td>sadness</td>\n",
       "      <td>sadness</td>\n",
       "    </tr>\n",
       "    <tr>\n",
       "      <th>1</th>\n",
       "      <td>False</td>\n",
       "      <td>0.272918</td>\n",
       "      <td>sadness</td>\n",
       "      <td>joy</td>\n",
       "    </tr>\n",
       "    <tr>\n",
       "      <th>2</th>\n",
       "      <td>False</td>\n",
       "      <td>0.892816</td>\n",
       "      <td>anger</td>\n",
       "      <td>anger</td>\n",
       "    </tr>\n",
       "    <tr>\n",
       "      <th>3</th>\n",
       "      <td>False</td>\n",
       "      <td>0.144541</td>\n",
       "      <td>love</td>\n",
       "      <td>sadness</td>\n",
       "    </tr>\n",
       "    <tr>\n",
       "      <th>4</th>\n",
       "      <td>False</td>\n",
       "      <td>0.796081</td>\n",
       "      <td>anger</td>\n",
       "      <td>anger</td>\n",
       "    </tr>\n",
       "  </tbody>\n",
       "</table>\n",
       "</div>"
      ],
      "text/plain": [
       "   is_label_issue  label_score given_label predicted_label\n",
       "0           False     0.604405     sadness         sadness\n",
       "1           False     0.272918     sadness             joy\n",
       "2           False     0.892816       anger           anger\n",
       "3           False     0.144541        love         sadness\n",
       "4           False     0.796081       anger           anger"
      ]
     },
     "execution_count": 18,
     "metadata": {},
     "output_type": "execute_result"
    }
   ],
   "source": [
    "label_issues = lab.get_issues(\"label\")\n",
    "label_issues.head() "
   ]
  },
  {
   "cell_type": "markdown",
   "id": "15b78e2d-efd7-47f7-b59b-9ac3cfb6d46a",
   "metadata": {
    "tags": []
   },
   "source": [
    "View examples with label errors and their suggested label"
   ]
  },
  {
   "cell_type": "code",
   "execution_count": 19,
   "id": "e88cda94-340b-46fa-ba52-0f3020a3d0c5",
   "metadata": {
    "tags": []
   },
   "outputs": [
    {
     "data": {
      "text/html": [
       "<div>\n",
       "<style scoped>\n",
       "    .dataframe tbody tr th:only-of-type {\n",
       "        vertical-align: middle;\n",
       "    }\n",
       "\n",
       "    .dataframe tbody tr th {\n",
       "        vertical-align: top;\n",
       "    }\n",
       "\n",
       "    .dataframe thead th {\n",
       "        text-align: right;\n",
       "    }\n",
       "</style>\n",
       "<table border=\"1\" class=\"dataframe\">\n",
       "  <thead>\n",
       "    <tr style=\"text-align: right;\">\n",
       "      <th></th>\n",
       "      <th>text</th>\n",
       "      <th>given_label</th>\n",
       "      <th>suggested_label</th>\n",
       "    </tr>\n",
       "  </thead>\n",
       "  <tbody>\n",
       "    <tr>\n",
       "      <th>17051</th>\n",
       "      <td>i manage feelings for prince charming and the boy</td>\n",
       "      <td>joy</td>\n",
       "      <td>love</td>\n",
       "    </tr>\n",
       "    <tr>\n",
       "      <th>331</th>\n",
       "      <td>i just love the feeling of something warmly hugging you and feeling so precious and small precious to someone something</td>\n",
       "      <td>joy</td>\n",
       "      <td>love</td>\n",
       "    </tr>\n",
       "    <tr>\n",
       "      <th>19066</th>\n",
       "      <td>i asked some girls what it meant to them to be valued and for the most part the response was that they felt valued when the people around them made them feel valued and treated them in a loving and caring manner</td>\n",
       "      <td>joy</td>\n",
       "      <td>love</td>\n",
       "    </tr>\n",
       "    <tr>\n",
       "      <th>481</th>\n",
       "      <td>i love sliding down on a nice big throbbing cock and feeling what my gorgeous body does to a man</td>\n",
       "      <td>joy</td>\n",
       "      <td>love</td>\n",
       "    </tr>\n",
       "    <tr>\n",
       "      <th>5243</th>\n",
       "      <td>i could have used for this blog post but this one perfectly describes the way i feel as well as give tribute to my</td>\n",
       "      <td>joy</td>\n",
       "      <td>love</td>\n",
       "    </tr>\n",
       "  </tbody>\n",
       "</table>\n",
       "</div>"
      ],
      "text/plain": [
       "                                                                                                                                                                                                                      text   \n",
       "17051                                                                                                                                                                    i manage feelings for prince charming and the boy  \\\n",
       "331                                                                                                i just love the feeling of something warmly hugging you and feeling so precious and small precious to someone something   \n",
       "19066  i asked some girls what it meant to them to be valued and for the most part the response was that they felt valued when the people around them made them feel valued and treated them in a loving and caring manner   \n",
       "481                                                                                                                       i love sliding down on a nice big throbbing cock and feeling what my gorgeous body does to a man   \n",
       "5243                                                                                                    i could have used for this blog post but this one perfectly describes the way i feel as well as give tribute to my   \n",
       "\n",
       "      given_label suggested_label  \n",
       "17051         joy            love  \n",
       "331           joy            love  \n",
       "19066         joy            love  \n",
       "481           joy            love  \n",
       "5243          joy            love  "
      ]
     },
     "execution_count": 19,
     "metadata": {},
     "output_type": "execute_result"
    }
   ],
   "source": [
    "identified_label_issues = label_issues[label_issues[\"is_label_issue\"] == True]\n",
    "identified_label_issues = identified_label_issues.sort_values('label_score', ascending=False)\n",
    "erroneous_examples = identified_label_issues.join(pd.DataFrame(raw_texts, columns=[\"text\"]), how=\"inner\")[[\"text\", \"given_label\", \"predicted_label\"]]\n",
    "erroneous_examples = erroneous_examples.rename({'predicted_label': 'suggested_label'}, axis=1)\n",
    "erroneous_examples.head()"
   ]
  },
  {
   "cell_type": "markdown",
   "id": "78e7d9e7-2bb8-4a4a-85bd-7656422f5320",
   "metadata": {},
   "source": [
    "### outlier\n",
    "View top examples detected as outliers"
   ]
  },
  {
   "cell_type": "code",
   "execution_count": 20,
   "id": "5bb93fb3-1226-4aae-b09c-6fbab07a16e3",
   "metadata": {},
   "outputs": [
    {
     "data": {
      "text/html": [
       "<div>\n",
       "<style scoped>\n",
       "    .dataframe tbody tr th:only-of-type {\n",
       "        vertical-align: middle;\n",
       "    }\n",
       "\n",
       "    .dataframe tbody tr th {\n",
       "        vertical-align: top;\n",
       "    }\n",
       "\n",
       "    .dataframe thead th {\n",
       "        text-align: right;\n",
       "    }\n",
       "</style>\n",
       "<table border=\"1\" class=\"dataframe\">\n",
       "  <thead>\n",
       "    <tr style=\"text-align: right;\">\n",
       "      <th></th>\n",
       "      <th>text</th>\n",
       "      <th>outlier_score</th>\n",
       "      <th>distance_to_nearest_neighbor</th>\n",
       "      <th>nearest_neighbor</th>\n",
       "    </tr>\n",
       "  </thead>\n",
       "  <tbody>\n",
       "    <tr>\n",
       "      <th>12058</th>\n",
       "      <td>i wanted to use older kx forks wheel w disc brakes but am was not feeling adventurous enough to try to figure out a stem and lowering the off road height</td>\n",
       "      <td>0.464728</td>\n",
       "      <td>0.722003</td>\n",
       "      <td>5197</td>\n",
       "    </tr>\n",
       "    <tr>\n",
       "      <th>7345</th>\n",
       "      <td>i feel this command is useful to check the free space in log file for all databases in over go</td>\n",
       "      <td>0.477303</td>\n",
       "      <td>0.667775</td>\n",
       "      <td>9424</td>\n",
       "    </tr>\n",
       "    <tr>\n",
       "      <th>11640</th>\n",
       "      <td>i feel a little uncertain about the structure of a revalidation portfolio</td>\n",
       "      <td>0.486628</td>\n",
       "      <td>0.693602</td>\n",
       "      <td>10005</td>\n",
       "    </tr>\n",
       "    <tr>\n",
       "      <th>19150</th>\n",
       "      <td>when i heard the last regulation of the socialist govrenment concerning pensions</td>\n",
       "      <td>0.489361</td>\n",
       "      <td>0.666289</td>\n",
       "      <td>9876</td>\n",
       "    </tr>\n",
       "    <tr>\n",
       "      <th>2166</th>\n",
       "      <td>i feel poles are most useful in pairs all price and stats in this review are for two poles</td>\n",
       "      <td>0.490448</td>\n",
       "      <td>0.645411</td>\n",
       "      <td>17580</td>\n",
       "    </tr>\n",
       "  </tbody>\n",
       "</table>\n",
       "</div>"
      ],
      "text/plain": [
       "                                                                                                                                                            text   \n",
       "12058  i wanted to use older kx forks wheel w disc brakes but am was not feeling adventurous enough to try to figure out a stem and lowering the off road height  \\\n",
       "7345                                                              i feel this command is useful to check the free space in log file for all databases in over go   \n",
       "11640                                                                                  i feel a little uncertain about the structure of a revalidation portfolio   \n",
       "19150                                                                           when i heard the last regulation of the socialist govrenment concerning pensions   \n",
       "2166                                                                  i feel poles are most useful in pairs all price and stats in this review are for two poles   \n",
       "\n",
       "       outlier_score  distance_to_nearest_neighbor  nearest_neighbor  \n",
       "12058       0.464728                      0.722003              5197  \n",
       "7345        0.477303                      0.667775              9424  \n",
       "11640       0.486628                      0.693602             10005  \n",
       "19150       0.489361                      0.666289              9876  \n",
       "2166        0.490448                      0.645411             17580  "
      ]
     },
     "execution_count": 20,
     "metadata": {},
     "output_type": "execute_result"
    }
   ],
   "source": [
    "outlier_issues = lab.get_issues(\"outlier\")\n",
    "outlier_issues = outlier_issues.join(pd.DataFrame(raw_texts, columns=[\"text\"]), how=\"inner\")\n",
    "outlier_issues[outlier_issues[\"is_outlier_issue\"] ==True].sort_values(\"outlier_score\")[['text', 'outlier_score', 'distance_to_nearest_neighbor', 'nearest_neighbor']].head()"
   ]
  }
 ],
 "metadata": {
  "kernelspec": {
   "display_name": "pkgtest",
   "language": "python",
   "name": "pkgtest"
  },
  "language_info": {
   "codemirror_mode": {
    "name": "ipython",
    "version": 3
   },
   "file_extension": ".py",
   "mimetype": "text/x-python",
   "name": "python",
   "nbconvert_exporter": "python",
   "pygments_lexer": "ipython3",
   "version": "3.11.0"
  }
 },
 "nbformat": 4,
 "nbformat_minor": 5
}
