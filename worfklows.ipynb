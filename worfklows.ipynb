{
 "cells": [
  {
   "cell_type": "code",
   "execution_count": 1,
   "id": "3dff3887-5f4e-4087-b8b6-8c0cd7086b3b",
   "metadata": {
    "tags": []
   },
   "outputs": [
    {
     "name": "stderr",
     "output_type": "stream",
     "text": [
      "/Users/sanjana/cleanlab_home/fork_cleanlab/.venv/lib/python3.11/site-packages/tqdm/auto.py:21: TqdmWarning: IProgress not found. Please update jupyter and ipywidgets. See https://ipywidgets.readthedocs.io/en/stable/user_install.html\n",
      "  from .autonotebook import tqdm as notebook_tqdm\n"
     ]
    }
   ],
   "source": [
    "import numpy as np\n",
    "from cleanlab import Datalab\n",
    "from datasets import load_dataset"
   ]
  },
  {
   "cell_type": "code",
   "execution_count": 2,
   "id": "1255b3c2-f246-42e6-8bd9-919919df4764",
   "metadata": {
    "tags": []
   },
   "outputs": [],
   "source": [
    "features = np.load(\"data/features.npy\")\n",
    "pred_probs = np.load(\"data/pred_probs.npy\")"
   ]
  },
  {
   "cell_type": "code",
   "execution_count": 3,
   "id": "4316d066",
   "metadata": {},
   "outputs": [
    {
     "name": "stderr",
     "output_type": "stream",
     "text": [
      "Resolving data files: 100%|██████████| 635/635 [00:00<00:00, 159388.57it/s]\n",
      "Found cached dataset imagefolder (/Users/sanjana/.cache/huggingface/datasets/imagefolder/default-2f665a6adeec287e/0.0.0/37fbb85cc714a338bea574ac6c7d0b5be5aff46c1862c1989b20e0771199e93f)\n"
     ]
    }
   ],
   "source": [
    "dataset = load_dataset(\"imagefolder\", data_dir=\"./data/caltech256-subset\", split=\"train\")"
   ]
  },
  {
   "attachments": {},
   "cell_type": "markdown",
   "id": "3daa69ad-5a6d-40df-87de-1cda4dad5b58",
   "metadata": {},
   "source": [
    "## Run default Datalab checks"
   ]
  },
  {
   "cell_type": "code",
   "execution_count": 4,
   "id": "48e1441c-4c73-4170-a2f1-a66779db68f0",
   "metadata": {
    "tags": []
   },
   "outputs": [
    {
     "name": "stdout",
     "output_type": "stream",
     "text": [
      "Finding label issues ...\n"
     ]
    },
    {
     "name": "stderr",
     "output_type": "stream",
     "text": [
      "2023-06-07 22:27:28.506311: I tensorflow/core/platform/cpu_feature_guard.cc:182] This TensorFlow binary is optimized to use available CPU instructions in performance-critical operations.\n",
      "To enable the following instructions: AVX2 FMA, in other operations, rebuild TensorFlow with the appropriate compiler flags.\n"
     ]
    },
    {
     "name": "stdout",
     "output_type": "stream",
     "text": [
      "Finding outlier issues ...\n",
      "Fitting OOD estimator based on provided features ...\n",
      "Finding near_duplicate issues ...\n",
      "Finding non_iid issues ...\n",
      "\n",
      "Audit complete. 51 issues found in the dataset.\n"
     ]
    }
   ],
   "source": [
    "lab = Datalab(data=dataset, label_name=\"label\")\n",
    "lab.find_issues(features=features, pred_probs=pred_probs)"
   ]
  },
  {
   "cell_type": "code",
   "execution_count": 5,
   "id": "0000b2fc-fcd4-455c-be1d-0eb988ad5525",
   "metadata": {
    "tags": []
   },
   "outputs": [
    {
     "name": "stdout",
     "output_type": "stream",
     "text": [
      "Here is a summary of the different kinds of issues found in the data:\n",
      "\n",
      "    issue_type  num_issues\n",
      "       outlier          25\n",
      "near_duplicate          14\n",
      "         label          11\n",
      "       non_iid           1\n",
      "\n",
      "Dataset Information: num_examples: 635, num_classes: 5\n",
      "\n",
      "\n",
      "---------------------- outlier issues ----------------------\n",
      "\n",
      "Number of examples with this issue: 25\n",
      "Overall dataset quality in terms of this issue: 0.7355\n",
      "\n",
      "Examples representing most severe instances of this issue:\n",
      "     is_outlier_issue  outlier_score\n",
      "398              True       0.412073\n",
      "397              True       0.420990\n",
      "633              True       0.425188\n",
      "241              True       0.427850\n",
      "396              True       0.431380\n",
      "\n",
      "\n",
      "------------------ near_duplicate issues -------------------\n",
      "\n",
      "Number of examples with this issue: 14\n",
      "Overall dataset quality in terms of this issue: 0.2445\n",
      "\n",
      "Examples representing most severe instances of this issue:\n",
      "     is_near_duplicate_issue  near_duplicate_score near_duplicate_sets  distance_to_nearest_neighbor\n",
      "116                     True                   0.0               [117]                           0.0\n",
      "521                     True                   0.0               [520]                           0.0\n",
      "520                     True                   0.0               [521]                           0.0\n",
      "401                     True                   0.0               [244]                           0.0\n",
      "244                     True                   0.0               [401]                           0.0\n",
      "\n",
      "\n",
      "----------------------- label issues -----------------------\n",
      "\n",
      "Number of examples with this issue: 11\n",
      "Overall dataset quality in terms of this issue: 0.9827\n",
      "\n",
      "Examples representing most severe instances of this issue:\n",
      "     is_label_issue  label_score given_label predicted_label\n",
      "539            True     0.022090    256.toad        080.frog\n",
      "9              True     0.022368    080.frog        256.toad\n",
      "44             True     0.025305    080.frog        256.toad\n",
      "611            True     0.040939    256.toad        080.frog\n",
      "98            False     0.043375    080.frog        207.swan\n",
      "\n",
      "\n",
      "---------------------- non_iid issues ----------------------\n",
      "\n",
      "Number of examples with this issue: 1\n",
      "Overall dataset quality in terms of this issue: 0.0000\n",
      "\n",
      "Examples representing most severe instances of this issue:\n",
      "     is_non_iid_issue  non_iid_score\n",
      "530              True       0.545564\n",
      "65              False       0.550821\n",
      "611             False       0.576190\n",
      "29              False       0.581049\n",
      "612             False       0.585020\n",
      "\n",
      "Additional Information: \n",
      "p-value: 0.0\n"
     ]
    }
   ],
   "source": [
    "lab.report(include_description=False)"
   ]
  },
  {
   "attachments": {},
   "cell_type": "markdown",
   "id": "89a6e4dc-e206-4dd3-a19f-977a19aa9be2",
   "metadata": {
    "tags": []
   },
   "source": [
    "## Run specific Datalab check"
   ]
  },
  {
   "cell_type": "code",
   "execution_count": 6,
   "id": "e3419def-b0a9-45fb-b68c-d9b862d513ca",
   "metadata": {
    "tags": []
   },
   "outputs": [
    {
     "name": "stdout",
     "output_type": "stream",
     "text": [
      "Finding label issues ...\n",
      "\n",
      "Audit complete. 11 issues found in the dataset.\n"
     ]
    }
   ],
   "source": [
    "lab = Datalab(data=dataset, label_name=\"label\")\n",
    "lab.find_issues(features=features, pred_probs=pred_probs, issue_types={\"label\": {}})"
   ]
  },
  {
   "cell_type": "code",
   "execution_count": 7,
   "id": "2c161a9d-117f-4a3e-b298-831a4e4f1188",
   "metadata": {
    "tags": []
   },
   "outputs": [
    {
     "name": "stdout",
     "output_type": "stream",
     "text": [
      "Here is a summary of the different kinds of issues found in the data:\n",
      "\n",
      "issue_type  num_issues\n",
      "     label          11\n",
      "\n",
      "Dataset Information: num_examples: 635, num_classes: 5\n",
      "\n",
      "\n",
      "----------------------- label issues -----------------------\n",
      "\n",
      "Number of examples with this issue: 11\n",
      "Overall dataset quality in terms of this issue: 0.9827\n",
      "\n",
      "Examples representing most severe instances of this issue:\n",
      "     is_label_issue  label_score given_label predicted_label\n",
      "539            True     0.022090    256.toad        080.frog\n",
      "9              True     0.022368    080.frog        256.toad\n",
      "44             True     0.025305    080.frog        256.toad\n",
      "611            True     0.040939    256.toad        080.frog\n",
      "98            False     0.043375    080.frog        207.swan\n"
     ]
    }
   ],
   "source": [
    "lab.report(include_description=False)"
   ]
  },
  {
   "attachments": {},
   "cell_type": "markdown",
   "id": "91c409e7-8220-4f41-b712-379c49aa51e1",
   "metadata": {
    "tags": []
   },
   "source": [
    "## Run Datalab with empty issue_types dict"
   ]
  },
  {
   "cell_type": "code",
   "execution_count": 8,
   "id": "f4d2ddc3-4804-4b44-88fc-ba2e15ea185d",
   "metadata": {
    "tags": []
   },
   "outputs": [
    {
     "name": "stderr",
     "output_type": "stream",
     "text": [
      "/Users/sanjana/cleanlab_home/fork_cleanlab/cleanlab/datalab/datalab.py:284: UserWarning: No issue types were specified. No issues will be found in the dataset.\n",
      "  warnings.warn(\"No issue types were specified. No issues will be found in the dataset.\")\n"
     ]
    }
   ],
   "source": [
    "lab = Datalab(data=dataset, label_name=\"label\")\n",
    "lab.find_issues(issue_types={})"
   ]
  },
  {
   "cell_type": "code",
   "execution_count": 9,
   "id": "892e8a6c-7eec-4cf7-940c-b3ce1eb658ba",
   "metadata": {
    "tags": []
   },
   "outputs": [
    {
     "name": "stdout",
     "output_type": "stream",
     "text": [
      "Please specify some issue types to run in datalab.find_issues() to see the report.\n",
      "\n"
     ]
    }
   ],
   "source": [
    "lab.report()"
   ]
  },
  {
   "attachments": {},
   "cell_type": "markdown",
   "id": "cb83d0bb-077a-4d8d-a1ee-260d5c72b1d3",
   "metadata": {
    "tags": []
   },
   "source": [
    "## Run default cleanvision issues"
   ]
  },
  {
   "cell_type": "code",
   "execution_count": 10,
   "id": "dc51bdeb-f717-4ca9-9879-dd2df6b49b74",
   "metadata": {
    "tags": []
   },
   "outputs": [
    {
     "name": "stdout",
     "output_type": "stream",
     "text": [
      "Finding dark, light, low_information, odd_aspect_ratio, odd_size, grayscale, blurry images ...\n"
     ]
    },
    {
     "name": "stderr",
     "output_type": "stream",
     "text": [
      "/Users/sanjana/cleanlab_home/fork_cleanlab/cleanlab/datalab/datalab.py:288: UserWarning: No arguments were passed to Datalab.find_issues().\n",
      "  warnings.warn(\"No arguments were passed to Datalab.find_issues().\")\n",
      "100%|██████████| 635/635 [00:28<00:00, 22.38it/s]\n"
     ]
    },
    {
     "name": "stdout",
     "output_type": "stream",
     "text": [
      "\n",
      "Audit complete. 3 issues found in the dataset.\n"
     ]
    }
   ],
   "source": [
    "lab = Datalab(data=dataset, label_name=\"label\", image_key=\"image\")\n",
    "lab.find_issues()"
   ]
  },
  {
   "cell_type": "code",
   "execution_count": 11,
   "id": "2503eb8e-2846-48dc-a2e7-5eb3b5f93f5d",
   "metadata": {
    "tags": []
   },
   "outputs": [
    {
     "name": "stdout",
     "output_type": "stream",
     "text": [
      "Here is a summary of the different kinds of issues found in the data:\n",
      "\n",
      "      issue_type  num_issues\n",
      " low_information           2\n",
      "odd_aspect_ratio           1\n",
      "          blurry           0\n",
      "            dark           0\n",
      "       grayscale           0\n",
      "           light           0\n",
      "        odd_size           0\n",
      "\n",
      "Dataset Information: num_examples: 635, num_classes: 5\n",
      "\n",
      "\n",
      "\n",
      "\n",
      "\n",
      "\n",
      "------------------ low_information images ------------------\n",
      "\n",
      "Number of examples with this issue: 2\n",
      "Examples representing most severe instances of this issue:\n",
      "\n"
     ]
    },
    {
     "data": {
      "image/png": "[encoded data removed]",
      "text/plain": [
       "<Figure size 400x200 with 2 Axes>"
      ]
     },
     "metadata": {},
     "output_type": "display_data"
    },
    {
     "name": "stdout",
     "output_type": "stream",
     "text": [
      "----------------- odd_aspect_ratio images ------------------\n",
      "\n",
      "Number of examples with this issue: 1\n",
      "Examples representing most severe instances of this issue:\n",
      "\n"
     ]
    },
    {
     "data": {
      "image/png": "[encoded data removed]",
      "text/plain": [
       "<Figure size 200x200 with 1 Axes>"
      ]
     },
     "metadata": {},
     "output_type": "display_data"
    }
   ],
   "source": [
    "lab.report(include_description=False)"
   ]
  },
  {
   "attachments": {},
   "cell_type": "markdown",
   "id": "d03efcb0-d3a6-4b2f-804d-141dfcbf0079",
   "metadata": {
    "tags": []
   },
   "source": [
    "## Run specific cleanvision check"
   ]
  },
  {
   "cell_type": "code",
   "execution_count": 12,
   "id": "7ed8ff33-a377-4705-8bef-843fd0125c36",
   "metadata": {
    "tags": []
   },
   "outputs": [
    {
     "name": "stdout",
     "output_type": "stream",
     "text": [
      "Finding dark images ...\n"
     ]
    },
    {
     "name": "stderr",
     "output_type": "stream",
     "text": [
      "100%|██████████| 635/635 [00:22<00:00, 28.76it/s] \n"
     ]
    },
    {
     "name": "stdout",
     "output_type": "stream",
     "text": [
      "\n",
      "Audit complete. 0 issues found in the dataset.\n"
     ]
    }
   ],
   "source": [
    "lab = Datalab(data=dataset, label_name=\"label\", image_key=\"image\")\n",
    "lab.find_issues(issue_types={\"image_issue_types\": {\"dark\": {}}})"
   ]
  },
  {
   "cell_type": "code",
   "execution_count": 14,
   "id": "6c2acc86-99af-4618-9b52-4ce1de02b0b4",
   "metadata": {
    "tags": []
   },
   "outputs": [
    {
     "name": "stdout",
     "output_type": "stream",
     "text": [
      "Here is a summary of the different kinds of issues found in the data:\n",
      "\n",
      "issue_type  num_issues\n",
      "      dark           0\n",
      "\n",
      "Dataset Information: num_examples: 635, num_classes: 5\n",
      "\n",
      "\n",
      "\n",
      "\n",
      "\n",
      "\n"
     ]
    }
   ],
   "source": [
    "lab.report(include_description=False)"
   ]
  },
  {
   "attachments": {},
   "cell_type": "markdown",
   "id": "df753966-ba61-407e-8ea0-9ef8aab681cb",
   "metadata": {
    "tags": []
   },
   "source": [
    "## Run cleanvision issue with custom hyperparameters"
   ]
  },
  {
   "cell_type": "code",
   "execution_count": 15,
   "id": "db88d4ca-032e-487d-89cc-dd8cc21842c3",
   "metadata": {
    "tags": []
   },
   "outputs": [
    {
     "name": "stdout",
     "output_type": "stream",
     "text": [
      "Finding dark images ...\n"
     ]
    },
    {
     "name": "stderr",
     "output_type": "stream",
     "text": [
      "100%|██████████| 635/635 [00:22<00:00, 28.47it/s] \n"
     ]
    },
    {
     "name": "stdout",
     "output_type": "stream",
     "text": [
      "\n",
      "Audit complete. 3 issues found in the dataset.\n"
     ]
    }
   ],
   "source": [
    "lab = Datalab(data=dataset, label_name=\"label\", image_key=\"image\")\n",
    "lab.find_issues(issue_types={\"image_issue_types\": {\"dark\": {\"threshold\": 0.36}}})"
   ]
  },
  {
   "cell_type": "code",
   "execution_count": 16,
   "id": "c5fe42e6-df0e-4567-b852-52f7d9d5846a",
   "metadata": {
    "tags": []
   },
   "outputs": [
    {
     "name": "stdout",
     "output_type": "stream",
     "text": [
      "Here is a summary of the different kinds of issues found in the data:\n",
      "\n",
      "issue_type  num_issues\n",
      "      dark           3\n",
      "\n",
      "Dataset Information: num_examples: 635, num_classes: 5\n",
      "\n",
      "\n",
      "\n",
      "\n",
      "\n",
      "\n",
      "----------------------- dark images ------------------------\n",
      "\n",
      "Number of examples with this issue: 3\n",
      "Examples representing most severe instances of this issue:\n",
      "\n"
     ]
    },
    {
     "data": {
      "image/png": "[encoded data removed]",
      "text/plain": [
       "<Figure size 600x200 with 3 Axes>"
      ]
     },
     "metadata": {},
     "output_type": "display_data"
    }
   ],
   "source": [
    "lab.report(include_description=False)"
   ]
  },
  {
   "attachments": {},
   "cell_type": "markdown",
   "id": "6d3c2244-7ddf-4b07-9044-36b56596f57f",
   "metadata": {
    "tags": []
   },
   "source": [
    "## Run Datalab and cleanvision default checks"
   ]
  },
  {
   "cell_type": "code",
   "execution_count": 17,
   "id": "b8ddd260-694f-47cb-ad48-9b082a7c2aa7",
   "metadata": {
    "tags": []
   },
   "outputs": [
    {
     "name": "stdout",
     "output_type": "stream",
     "text": [
      "Finding label issues ...\n",
      "Finding outlier issues ...\n",
      "Fitting OOD estimator based on provided features ...\n",
      "Finding near_duplicate issues ...\n",
      "Finding non_iid issues ...\n",
      "Finding dark, light, low_information, odd_aspect_ratio, odd_size, grayscale, blurry images ...\n"
     ]
    },
    {
     "name": "stderr",
     "output_type": "stream",
     "text": [
      "100%|██████████| 635/635 [00:23<00:00, 26.68it/s] \n"
     ]
    },
    {
     "name": "stdout",
     "output_type": "stream",
     "text": [
      "\n",
      "Audit complete. 54 issues found in the dataset.\n"
     ]
    }
   ],
   "source": [
    "lab = Datalab(data=dataset, label_name=\"label\", image_key=\"image\")\n",
    "lab.find_issues(features=features, pred_probs=pred_probs)"
   ]
  },
  {
   "cell_type": "code",
   "execution_count": 18,
   "id": "00d1e44a-a87f-42e4-98a0-2f46d47d3de5",
   "metadata": {
    "tags": []
   },
   "outputs": [
    {
     "name": "stdout",
     "output_type": "stream",
     "text": [
      "Here is a summary of the different kinds of issues found in the data:\n",
      "\n",
      "      issue_type  num_issues\n",
      "         outlier          25\n",
      "  near_duplicate          14\n",
      "           label          11\n",
      " low_information           2\n",
      "         non_iid           1\n",
      "odd_aspect_ratio           1\n",
      "          blurry           0\n",
      "            dark           0\n",
      "       grayscale           0\n",
      "           light           0\n",
      "        odd_size           0\n",
      "\n",
      "Dataset Information: num_examples: 635, num_classes: 5\n",
      "\n",
      "\n",
      "---------------------- outlier issues ----------------------\n",
      "\n",
      "Number of examples with this issue: 25\n",
      "Overall dataset quality in terms of this issue: 0.7355\n",
      "\n",
      "Examples representing most severe instances of this issue:\n",
      "     is_outlier_issue  outlier_score\n",
      "398              True       0.412073\n",
      "397              True       0.420990\n",
      "633              True       0.425188\n",
      "241              True       0.427850\n",
      "396              True       0.431380\n",
      "\n",
      "\n",
      "------------------ near_duplicate issues -------------------\n",
      "\n",
      "Number of examples with this issue: 14\n",
      "Overall dataset quality in terms of this issue: 0.2445\n",
      "\n",
      "Examples representing most severe instances of this issue:\n",
      "     is_near_duplicate_issue  near_duplicate_score near_duplicate_sets  distance_to_nearest_neighbor\n",
      "116                     True                   0.0               [117]                           0.0\n",
      "521                     True                   0.0               [520]                           0.0\n",
      "520                     True                   0.0               [521]                           0.0\n",
      "401                     True                   0.0               [244]                           0.0\n",
      "244                     True                   0.0               [401]                           0.0\n",
      "\n",
      "\n",
      "----------------------- label issues -----------------------\n",
      "\n",
      "Number of examples with this issue: 11\n",
      "Overall dataset quality in terms of this issue: 0.9827\n",
      "\n",
      "Examples representing most severe instances of this issue:\n",
      "     is_label_issue  label_score given_label predicted_label\n",
      "539            True     0.022090    256.toad        080.frog\n",
      "9              True     0.022368    080.frog        256.toad\n",
      "44             True     0.025305    080.frog        256.toad\n",
      "611            True     0.040939    256.toad        080.frog\n",
      "98            False     0.043375    080.frog        207.swan\n",
      "\n",
      "\n",
      "---------------------- non_iid issues ----------------------\n",
      "\n",
      "Number of examples with this issue: 1\n",
      "Overall dataset quality in terms of this issue: 0.0000\n",
      "\n",
      "Examples representing most severe instances of this issue:\n",
      "     is_non_iid_issue  non_iid_score\n",
      "530              True       0.545564\n",
      "65              False       0.550821\n",
      "611             False       0.576190\n",
      "29              False       0.581049\n",
      "612             False       0.585020\n",
      "\n",
      "Additional Information: \n",
      "p-value: 0.0\n",
      "\n",
      "\n",
      "\n",
      "------------------ low_information images ------------------\n",
      "\n",
      "Number of examples with this issue: 2\n",
      "Examples representing most severe instances of this issue:\n",
      "\n"
     ]
    },
    {
     "data": {
      "image/png": "[encoded data removed]",
      "text/plain": [
       "<Figure size 400x200 with 2 Axes>"
      ]
     },
     "metadata": {},
     "output_type": "display_data"
    },
    {
     "name": "stdout",
     "output_type": "stream",
     "text": [
      "----------------- odd_aspect_ratio images ------------------\n",
      "\n",
      "Number of examples with this issue: 1\n",
      "Examples representing most severe instances of this issue:\n",
      "\n"
     ]
    },
    {
     "data": {
      "image/png": "[encoded data removed]",
      "text/plain": [
       "<Figure size 200x200 with 1 Axes>"
      ]
     },
     "metadata": {},
     "output_type": "display_data"
    }
   ],
   "source": [
    "lab.report(include_description=False)"
   ]
  },
  {
   "cell_type": "code",
   "execution_count": 19,
   "id": "500109bb",
   "metadata": {},
   "outputs": [
    {
     "data": {
      "text/html": [
       "<div>\n",
       "<style scoped>\n",
       "    .dataframe tbody tr th:only-of-type {\n",
       "        vertical-align: middle;\n",
       "    }\n",
       "\n",
       "    .dataframe tbody tr th {\n",
       "        vertical-align: top;\n",
       "    }\n",
       "\n",
       "    .dataframe thead th {\n",
       "        text-align: right;\n",
       "    }\n",
       "</style>\n",
       "<table border=\"1\" class=\"dataframe\">\n",
       "  <thead>\n",
       "    <tr style=\"text-align: right;\">\n",
       "      <th></th>\n",
       "      <th>issue_type</th>\n",
       "      <th>score</th>\n",
       "      <th>num_issues</th>\n",
       "    </tr>\n",
       "  </thead>\n",
       "  <tbody>\n",
       "    <tr>\n",
       "      <th>0</th>\n",
       "      <td>low_information</td>\n",
       "      <td>NaN</td>\n",
       "      <td>2</td>\n",
       "    </tr>\n",
       "  </tbody>\n",
       "</table>\n",
       "</div>"
      ],
      "text/plain": [
       "        issue_type  score  num_issues\n",
       "0  low_information    NaN           2"
      ]
     },
     "execution_count": 19,
     "metadata": {},
     "output_type": "execute_result"
    }
   ],
   "source": [
    "lab.get_issue_summary(\"low_information\")"
   ]
  },
  {
   "cell_type": "code",
   "execution_count": 20,
   "id": "f7e40767",
   "metadata": {},
   "outputs": [
    {
     "data": {
      "text/html": [
       "<div>\n",
       "<style scoped>\n",
       "    .dataframe tbody tr th:only-of-type {\n",
       "        vertical-align: middle;\n",
       "    }\n",
       "\n",
       "    .dataframe tbody tr th {\n",
       "        vertical-align: top;\n",
       "    }\n",
       "\n",
       "    .dataframe thead th {\n",
       "        text-align: right;\n",
       "    }\n",
       "</style>\n",
       "<table border=\"1\" class=\"dataframe\">\n",
       "  <thead>\n",
       "    <tr style=\"text-align: right;\">\n",
       "      <th></th>\n",
       "      <th>is_odd_aspect_ratio_issue</th>\n",
       "      <th>odd_aspect_ratio_score</th>\n",
       "    </tr>\n",
       "  </thead>\n",
       "  <tbody>\n",
       "    <tr>\n",
       "      <th>0</th>\n",
       "      <td>False</td>\n",
       "      <td>0.750000</td>\n",
       "    </tr>\n",
       "    <tr>\n",
       "      <th>1</th>\n",
       "      <td>False</td>\n",
       "      <td>0.812236</td>\n",
       "    </tr>\n",
       "    <tr>\n",
       "      <th>2</th>\n",
       "      <td>False</td>\n",
       "      <td>0.667188</td>\n",
       "    </tr>\n",
       "    <tr>\n",
       "      <th>3</th>\n",
       "      <td>False</td>\n",
       "      <td>0.781250</td>\n",
       "    </tr>\n",
       "    <tr>\n",
       "      <th>4</th>\n",
       "      <td>False</td>\n",
       "      <td>0.945634</td>\n",
       "    </tr>\n",
       "    <tr>\n",
       "      <th>...</th>\n",
       "      <td>...</td>\n",
       "      <td>...</td>\n",
       "    </tr>\n",
       "    <tr>\n",
       "      <th>630</th>\n",
       "      <td>False</td>\n",
       "      <td>0.926573</td>\n",
       "    </tr>\n",
       "    <tr>\n",
       "      <th>631</th>\n",
       "      <td>False</td>\n",
       "      <td>0.673469</td>\n",
       "    </tr>\n",
       "    <tr>\n",
       "      <th>632</th>\n",
       "      <td>False</td>\n",
       "      <td>0.750623</td>\n",
       "    </tr>\n",
       "    <tr>\n",
       "      <th>633</th>\n",
       "      <td>False</td>\n",
       "      <td>0.754491</td>\n",
       "    </tr>\n",
       "    <tr>\n",
       "      <th>634</th>\n",
       "      <td>False</td>\n",
       "      <td>1.000000</td>\n",
       "    </tr>\n",
       "  </tbody>\n",
       "</table>\n",
       "<p>635 rows × 2 columns</p>\n",
       "</div>"
      ],
      "text/plain": [
       "     is_odd_aspect_ratio_issue  odd_aspect_ratio_score\n",
       "0                        False                0.750000\n",
       "1                        False                0.812236\n",
       "2                        False                0.667188\n",
       "3                        False                0.781250\n",
       "4                        False                0.945634\n",
       "..                         ...                     ...\n",
       "630                      False                0.926573\n",
       "631                      False                0.673469\n",
       "632                      False                0.750623\n",
       "633                      False                0.754491\n",
       "634                      False                1.000000\n",
       "\n",
       "[635 rows x 2 columns]"
      ]
     },
     "execution_count": 20,
     "metadata": {},
     "output_type": "execute_result"
    }
   ],
   "source": [
    "lab.get_issues(\"odd_aspect_ratio\")"
   ]
  },
  {
   "cell_type": "code",
   "execution_count": 22,
   "id": "97d3db11",
   "metadata": {},
   "outputs": [
    {
     "data": {
      "text/plain": [
       "{'num_label_issues': 11,\n",
       " 'average_label_quality': 0.8867957671414914,\n",
       " 'given_label': array(['080.frog', '080.frog', '080.frog', '080.frog', '080.frog',\n",
       "        '080.frog', '080.frog', '080.frog', '080.frog', '080.frog',\n",
       "        '080.frog', '080.frog', '080.frog', '080.frog', '080.frog',\n",
       "        '080.frog', '080.frog', '080.frog', '080.frog', '080.frog',\n",
       "        '080.frog', '080.frog', '080.frog', '080.frog', '080.frog',\n",
       "        '080.frog', '080.frog', '080.frog', '080.frog', '080.frog',\n",
       "        '080.frog', '080.frog', '080.frog', '080.frog', '080.frog',\n",
       "        '080.frog', '080.frog', '080.frog', '080.frog', '080.frog',\n",
       "        '080.frog', '080.frog', '080.frog', '080.frog', '080.frog',\n",
       "        '080.frog', '080.frog', '080.frog', '080.frog', '080.frog',\n",
       "        '080.frog', '080.frog', '080.frog', '080.frog', '080.frog',\n",
       "        '080.frog', '080.frog', '080.frog', '080.frog', '080.frog',\n",
       "        '080.frog', '080.frog', '080.frog', '080.frog', '080.frog',\n",
       "        '080.frog', '080.frog', '080.frog', '080.frog', '080.frog',\n",
       "        '080.frog', '080.frog', '080.frog', '080.frog', '080.frog',\n",
       "        '080.frog', '080.frog', '080.frog', '080.frog', '080.frog',\n",
       "        '080.frog', '080.frog', '080.frog', '080.frog', '080.frog',\n",
       "        '080.frog', '080.frog', '080.frog', '080.frog', '080.frog',\n",
       "        '080.frog', '080.frog', '080.frog', '080.frog', '080.frog',\n",
       "        '080.frog', '080.frog', '080.frog', '080.frog', '080.frog',\n",
       "        '080.frog', '080.frog', '080.frog', '080.frog', '080.frog',\n",
       "        '080.frog', '080.frog', '080.frog', '080.frog', '080.frog',\n",
       "        '080.frog', '080.frog', '080.frog', '080.frog', '080.frog',\n",
       "        '080.frog', '080.frog', '080.frog', '080.frog', '080.frog',\n",
       "        '114.ibis-101', '114.ibis-101', '114.ibis-101', '114.ibis-101',\n",
       "        '114.ibis-101', '114.ibis-101', '114.ibis-101', '114.ibis-101',\n",
       "        '114.ibis-101', '114.ibis-101', '114.ibis-101', '114.ibis-101',\n",
       "        '114.ibis-101', '114.ibis-101', '114.ibis-101', '114.ibis-101',\n",
       "        '114.ibis-101', '114.ibis-101', '114.ibis-101', '114.ibis-101',\n",
       "        '114.ibis-101', '114.ibis-101', '114.ibis-101', '114.ibis-101',\n",
       "        '114.ibis-101', '114.ibis-101', '114.ibis-101', '114.ibis-101',\n",
       "        '114.ibis-101', '114.ibis-101', '114.ibis-101', '114.ibis-101',\n",
       "        '114.ibis-101', '114.ibis-101', '114.ibis-101', '114.ibis-101',\n",
       "        '114.ibis-101', '114.ibis-101', '114.ibis-101', '114.ibis-101',\n",
       "        '114.ibis-101', '114.ibis-101', '114.ibis-101', '114.ibis-101',\n",
       "        '114.ibis-101', '114.ibis-101', '114.ibis-101', '114.ibis-101',\n",
       "        '114.ibis-101', '114.ibis-101', '114.ibis-101', '114.ibis-101',\n",
       "        '114.ibis-101', '114.ibis-101', '114.ibis-101', '114.ibis-101',\n",
       "        '114.ibis-101', '114.ibis-101', '114.ibis-101', '114.ibis-101',\n",
       "        '114.ibis-101', '114.ibis-101', '114.ibis-101', '114.ibis-101',\n",
       "        '114.ibis-101', '114.ibis-101', '114.ibis-101', '114.ibis-101',\n",
       "        '114.ibis-101', '114.ibis-101', '114.ibis-101', '114.ibis-101',\n",
       "        '114.ibis-101', '114.ibis-101', '114.ibis-101', '114.ibis-101',\n",
       "        '114.ibis-101', '114.ibis-101', '114.ibis-101', '114.ibis-101',\n",
       "        '114.ibis-101', '114.ibis-101', '114.ibis-101', '114.ibis-101',\n",
       "        '114.ibis-101', '114.ibis-101', '114.ibis-101', '114.ibis-101',\n",
       "        '114.ibis-101', '114.ibis-101', '114.ibis-101', '114.ibis-101',\n",
       "        '114.ibis-101', '114.ibis-101', '114.ibis-101', '114.ibis-101',\n",
       "        '114.ibis-101', '114.ibis-101', '114.ibis-101', '114.ibis-101',\n",
       "        '114.ibis-101', '114.ibis-101', '114.ibis-101', '114.ibis-101',\n",
       "        '114.ibis-101', '114.ibis-101', '114.ibis-101', '114.ibis-101',\n",
       "        '114.ibis-101', '114.ibis-101', '114.ibis-101', '114.ibis-101',\n",
       "        '114.ibis-101', '114.ibis-101', '114.ibis-101', '114.ibis-101',\n",
       "        '114.ibis-101', '114.ibis-101', '114.ibis-101', '114.ibis-101',\n",
       "        '114.ibis-101', '114.ibis-101', '114.ibis-101', '158.penguin',\n",
       "        '158.penguin', '158.penguin', '158.penguin', '158.penguin',\n",
       "        '158.penguin', '158.penguin', '158.penguin', '158.penguin',\n",
       "        '158.penguin', '158.penguin', '158.penguin', '158.penguin',\n",
       "        '158.penguin', '158.penguin', '158.penguin', '158.penguin',\n",
       "        '158.penguin', '158.penguin', '158.penguin', '158.penguin',\n",
       "        '158.penguin', '158.penguin', '158.penguin', '158.penguin',\n",
       "        '158.penguin', '158.penguin', '158.penguin', '158.penguin',\n",
       "        '158.penguin', '158.penguin', '158.penguin', '158.penguin',\n",
       "        '158.penguin', '158.penguin', '158.penguin', '158.penguin',\n",
       "        '158.penguin', '158.penguin', '158.penguin', '158.penguin',\n",
       "        '158.penguin', '158.penguin', '158.penguin', '158.penguin',\n",
       "        '158.penguin', '158.penguin', '158.penguin', '158.penguin',\n",
       "        '158.penguin', '158.penguin', '158.penguin', '158.penguin',\n",
       "        '158.penguin', '158.penguin', '158.penguin', '158.penguin',\n",
       "        '158.penguin', '158.penguin', '158.penguin', '158.penguin',\n",
       "        '158.penguin', '158.penguin', '158.penguin', '158.penguin',\n",
       "        '158.penguin', '158.penguin', '158.penguin', '158.penguin',\n",
       "        '158.penguin', '158.penguin', '158.penguin', '158.penguin',\n",
       "        '158.penguin', '158.penguin', '158.penguin', '158.penguin',\n",
       "        '158.penguin', '158.penguin', '158.penguin', '158.penguin',\n",
       "        '158.penguin', '158.penguin', '158.penguin', '158.penguin',\n",
       "        '158.penguin', '158.penguin', '158.penguin', '158.penguin',\n",
       "        '158.penguin', '158.penguin', '158.penguin', '158.penguin',\n",
       "        '158.penguin', '158.penguin', '158.penguin', '158.penguin',\n",
       "        '158.penguin', '158.penguin', '158.penguin', '158.penguin',\n",
       "        '158.penguin', '158.penguin', '158.penguin', '158.penguin',\n",
       "        '158.penguin', '158.penguin', '158.penguin', '158.penguin',\n",
       "        '158.penguin', '158.penguin', '158.penguin', '158.penguin',\n",
       "        '158.penguin', '158.penguin', '158.penguin', '158.penguin',\n",
       "        '158.penguin', '158.penguin', '158.penguin', '158.penguin',\n",
       "        '158.penguin', '158.penguin', '158.penguin', '158.penguin',\n",
       "        '158.penguin', '158.penguin', '158.penguin', '158.penguin',\n",
       "        '158.penguin', '158.penguin', '158.penguin', '158.penguin',\n",
       "        '158.penguin', '158.penguin', '158.penguin', '158.penguin',\n",
       "        '158.penguin', '158.penguin', '158.penguin', '158.penguin',\n",
       "        '158.penguin', '158.penguin', '158.penguin', '158.penguin',\n",
       "        '158.penguin', '158.penguin', '158.penguin', '158.penguin',\n",
       "        '158.penguin', '158.penguin', '158.penguin', '158.penguin',\n",
       "        '158.penguin', '158.penguin', '158.penguin', '207.swan',\n",
       "        '207.swan', '207.swan', '207.swan', '207.swan', '207.swan',\n",
       "        '207.swan', '207.swan', '207.swan', '207.swan', '207.swan',\n",
       "        '207.swan', '207.swan', '207.swan', '207.swan', '207.swan',\n",
       "        '207.swan', '207.swan', '207.swan', '207.swan', '207.swan',\n",
       "        '207.swan', '207.swan', '207.swan', '207.swan', '207.swan',\n",
       "        '207.swan', '207.swan', '207.swan', '207.swan', '207.swan',\n",
       "        '207.swan', '207.swan', '207.swan', '207.swan', '207.swan',\n",
       "        '207.swan', '207.swan', '207.swan', '207.swan', '207.swan',\n",
       "        '207.swan', '207.swan', '207.swan', '207.swan', '207.swan',\n",
       "        '207.swan', '207.swan', '207.swan', '207.swan', '207.swan',\n",
       "        '207.swan', '207.swan', '207.swan', '207.swan', '207.swan',\n",
       "        '207.swan', '207.swan', '207.swan', '207.swan', '207.swan',\n",
       "        '207.swan', '207.swan', '207.swan', '207.swan', '207.swan',\n",
       "        '207.swan', '207.swan', '207.swan', '207.swan', '207.swan',\n",
       "        '207.swan', '207.swan', '207.swan', '207.swan', '207.swan',\n",
       "        '207.swan', '207.swan', '207.swan', '207.swan', '207.swan',\n",
       "        '207.swan', '207.swan', '207.swan', '207.swan', '207.swan',\n",
       "        '207.swan', '207.swan', '207.swan', '207.swan', '207.swan',\n",
       "        '207.swan', '207.swan', '207.swan', '207.swan', '207.swan',\n",
       "        '207.swan', '207.swan', '207.swan', '207.swan', '207.swan',\n",
       "        '207.swan', '207.swan', '207.swan', '207.swan', '207.swan',\n",
       "        '207.swan', '207.swan', '207.swan', '207.swan', '207.swan',\n",
       "        '207.swan', '207.swan', '207.swan', '207.swan', '207.swan',\n",
       "        '207.swan', '207.swan', '207.swan', '207.swan', '207.swan',\n",
       "        '256.toad', '256.toad', '256.toad', '256.toad', '256.toad',\n",
       "        '256.toad', '256.toad', '256.toad', '256.toad', '256.toad',\n",
       "        '256.toad', '256.toad', '256.toad', '256.toad', '256.toad',\n",
       "        '256.toad', '256.toad', '256.toad', '256.toad', '256.toad',\n",
       "        '256.toad', '256.toad', '256.toad', '256.toad', '256.toad',\n",
       "        '256.toad', '256.toad', '256.toad', '256.toad', '256.toad',\n",
       "        '256.toad', '256.toad', '256.toad', '256.toad', '256.toad',\n",
       "        '256.toad', '256.toad', '256.toad', '256.toad', '256.toad',\n",
       "        '256.toad', '256.toad', '256.toad', '256.toad', '256.toad',\n",
       "        '256.toad', '256.toad', '256.toad', '256.toad', '256.toad',\n",
       "        '256.toad', '256.toad', '256.toad', '256.toad', '256.toad',\n",
       "        '256.toad', '256.toad', '256.toad', '256.toad', '256.toad',\n",
       "        '256.toad', '256.toad', '256.toad', '256.toad', '256.toad',\n",
       "        '256.toad', '256.toad', '256.toad', '256.toad', '256.toad',\n",
       "        '256.toad', '256.toad', '256.toad', '256.toad', '256.toad',\n",
       "        '256.toad', '256.toad', '256.toad', '256.toad', '256.toad',\n",
       "        '256.toad', '256.toad', '256.toad', '256.toad', '256.toad',\n",
       "        '256.toad', '256.toad', '256.toad', '256.toad', '256.toad',\n",
       "        '256.toad', '256.toad', '256.toad', '256.toad', '256.toad',\n",
       "        '256.toad', '256.toad', '256.toad', '256.toad', '256.toad',\n",
       "        '256.toad', '256.toad', '256.toad', '256.toad', '256.toad',\n",
       "        '256.toad', '256.toad', '256.toad', '256.toad', '256.toad',\n",
       "        '256.toad', '256.toad', '256.toad', '256.toad', '256.toad'],\n",
       "       dtype='<U12'),\n",
       " 'predicted_label': array(['080.frog', '080.frog', '080.frog', '080.frog', '080.frog',\n",
       "        '080.frog', '080.frog', '256.toad', '080.frog', '256.toad',\n",
       "        '080.frog', '080.frog', '080.frog', '080.frog', '080.frog',\n",
       "        '080.frog', '080.frog', '080.frog', '080.frog', '080.frog',\n",
       "        '080.frog', '080.frog', '080.frog', '080.frog', '080.frog',\n",
       "        '080.frog', '256.toad', '080.frog', '080.frog', '080.frog',\n",
       "        '080.frog', '080.frog', '080.frog', '080.frog', '080.frog',\n",
       "        '080.frog', '080.frog', '080.frog', '080.frog', '080.frog',\n",
       "        '080.frog', '080.frog', '080.frog', '080.frog', '256.toad',\n",
       "        '080.frog', '080.frog', '080.frog', '080.frog', '080.frog',\n",
       "        '080.frog', '080.frog', '080.frog', '080.frog', '080.frog',\n",
       "        '080.frog', '080.frog', '256.toad', '080.frog', '080.frog',\n",
       "        '080.frog', '080.frog', '080.frog', '080.frog', '080.frog',\n",
       "        '256.toad', '080.frog', '080.frog', '080.frog', '080.frog',\n",
       "        '080.frog', '080.frog', '080.frog', '080.frog', '080.frog',\n",
       "        '080.frog', '080.frog', '080.frog', '080.frog', '080.frog',\n",
       "        '080.frog', '080.frog', '080.frog', '080.frog', '080.frog',\n",
       "        '080.frog', '080.frog', '080.frog', '256.toad', '080.frog',\n",
       "        '080.frog', '080.frog', '080.frog', '080.frog', '080.frog',\n",
       "        '080.frog', '080.frog', '080.frog', '207.swan', '080.frog',\n",
       "        '080.frog', '080.frog', '080.frog', '080.frog', '080.frog',\n",
       "        '080.frog', '080.frog', '080.frog', '080.frog', '080.frog',\n",
       "        '080.frog', '080.frog', '080.frog', '080.frog', '080.frog',\n",
       "        '080.frog', '080.frog', '080.frog', '207.swan', '158.penguin',\n",
       "        '114.ibis-101', '114.ibis-101', '114.ibis-101', '114.ibis-101',\n",
       "        '114.ibis-101', '114.ibis-101', '114.ibis-101', '114.ibis-101',\n",
       "        '114.ibis-101', '114.ibis-101', '114.ibis-101', '114.ibis-101',\n",
       "        '114.ibis-101', '114.ibis-101', '114.ibis-101', '114.ibis-101',\n",
       "        '114.ibis-101', '114.ibis-101', '114.ibis-101', '114.ibis-101',\n",
       "        '114.ibis-101', '114.ibis-101', '114.ibis-101', '114.ibis-101',\n",
       "        '114.ibis-101', '114.ibis-101', '114.ibis-101', '114.ibis-101',\n",
       "        '114.ibis-101', '114.ibis-101', '114.ibis-101', '114.ibis-101',\n",
       "        '114.ibis-101', '114.ibis-101', '114.ibis-101', '114.ibis-101',\n",
       "        '114.ibis-101', '114.ibis-101', '114.ibis-101', '114.ibis-101',\n",
       "        '114.ibis-101', '114.ibis-101', '114.ibis-101', '114.ibis-101',\n",
       "        '114.ibis-101', '114.ibis-101', '114.ibis-101', '114.ibis-101',\n",
       "        '114.ibis-101', '114.ibis-101', '114.ibis-101', '114.ibis-101',\n",
       "        '114.ibis-101', '114.ibis-101', '114.ibis-101', '114.ibis-101',\n",
       "        '114.ibis-101', '114.ibis-101', '114.ibis-101', '114.ibis-101',\n",
       "        '114.ibis-101', '114.ibis-101', '114.ibis-101', '114.ibis-101',\n",
       "        '114.ibis-101', '114.ibis-101', '114.ibis-101', '114.ibis-101',\n",
       "        '114.ibis-101', '114.ibis-101', '114.ibis-101', '114.ibis-101',\n",
       "        '114.ibis-101', '114.ibis-101', '114.ibis-101', '114.ibis-101',\n",
       "        '114.ibis-101', '114.ibis-101', '114.ibis-101', '114.ibis-101',\n",
       "        '114.ibis-101', '114.ibis-101', '114.ibis-101', '114.ibis-101',\n",
       "        '114.ibis-101', '114.ibis-101', '114.ibis-101', '114.ibis-101',\n",
       "        '114.ibis-101', '114.ibis-101', '114.ibis-101', '114.ibis-101',\n",
       "        '114.ibis-101', '114.ibis-101', '114.ibis-101', '114.ibis-101',\n",
       "        '114.ibis-101', '114.ibis-101', '114.ibis-101', '114.ibis-101',\n",
       "        '114.ibis-101', '114.ibis-101', '114.ibis-101', '114.ibis-101',\n",
       "        '114.ibis-101', '114.ibis-101', '114.ibis-101', '114.ibis-101',\n",
       "        '114.ibis-101', '114.ibis-101', '114.ibis-101', '114.ibis-101',\n",
       "        '114.ibis-101', '114.ibis-101', '114.ibis-101', '114.ibis-101',\n",
       "        '114.ibis-101', '114.ibis-101', '114.ibis-101', '114.ibis-101',\n",
       "        '256.toad', '158.penguin', '114.ibis-101', '158.penguin',\n",
       "        '207.swan', '158.penguin', '158.penguin', '158.penguin',\n",
       "        '158.penguin', '158.penguin', '158.penguin', '158.penguin',\n",
       "        '158.penguin', '158.penguin', '158.penguin', '158.penguin',\n",
       "        '158.penguin', '158.penguin', '158.penguin', '158.penguin',\n",
       "        '158.penguin', '158.penguin', '158.penguin', '158.penguin',\n",
       "        '158.penguin', '158.penguin', '158.penguin', '158.penguin',\n",
       "        '158.penguin', '158.penguin', '158.penguin', '158.penguin',\n",
       "        '158.penguin', '158.penguin', '158.penguin', '158.penguin',\n",
       "        '158.penguin', '158.penguin', '158.penguin', '158.penguin',\n",
       "        '158.penguin', '158.penguin', '158.penguin', '158.penguin',\n",
       "        '158.penguin', '158.penguin', '158.penguin', '158.penguin',\n",
       "        '158.penguin', '158.penguin', '158.penguin', '158.penguin',\n",
       "        '158.penguin', '158.penguin', '158.penguin', '158.penguin',\n",
       "        '158.penguin', '158.penguin', '158.penguin', '158.penguin',\n",
       "        '158.penguin', '158.penguin', '158.penguin', '158.penguin',\n",
       "        '158.penguin', '158.penguin', '158.penguin', '158.penguin',\n",
       "        '158.penguin', '158.penguin', '158.penguin', '158.penguin',\n",
       "        '158.penguin', '158.penguin', '158.penguin', '158.penguin',\n",
       "        '158.penguin', '158.penguin', '158.penguin', '158.penguin',\n",
       "        '158.penguin', '158.penguin', '158.penguin', '158.penguin',\n",
       "        '158.penguin', '158.penguin', '158.penguin', '158.penguin',\n",
       "        '158.penguin', '158.penguin', '158.penguin', '158.penguin',\n",
       "        '158.penguin', '158.penguin', '158.penguin', '158.penguin',\n",
       "        '158.penguin', '158.penguin', '158.penguin', '158.penguin',\n",
       "        '158.penguin', '158.penguin', '158.penguin', '158.penguin',\n",
       "        '158.penguin', '158.penguin', '158.penguin', '158.penguin',\n",
       "        '158.penguin', '158.penguin', '158.penguin', '158.penguin',\n",
       "        '158.penguin', '158.penguin', '158.penguin', '158.penguin',\n",
       "        '158.penguin', '158.penguin', '158.penguin', '158.penguin',\n",
       "        '158.penguin', '158.penguin', '158.penguin', '158.penguin',\n",
       "        '158.penguin', '158.penguin', '158.penguin', '158.penguin',\n",
       "        '158.penguin', '158.penguin', '158.penguin', '158.penguin',\n",
       "        '158.penguin', '158.penguin', '158.penguin', '158.penguin',\n",
       "        '158.penguin', '158.penguin', '158.penguin', '158.penguin',\n",
       "        '158.penguin', '158.penguin', '158.penguin', '158.penguin',\n",
       "        '158.penguin', '158.penguin', '158.penguin', '158.penguin',\n",
       "        '158.penguin', '158.penguin', '158.penguin', '158.penguin',\n",
       "        '158.penguin', '158.penguin', '158.penguin', '256.toad',\n",
       "        '158.penguin', '114.ibis-101', '158.penguin', '080.frog',\n",
       "        '080.frog', '207.swan', '207.swan', '207.swan', '207.swan',\n",
       "        '207.swan', '207.swan', '207.swan', '207.swan', '207.swan',\n",
       "        '207.swan', '207.swan', '207.swan', '207.swan', '207.swan',\n",
       "        '207.swan', '207.swan', '207.swan', '207.swan', '207.swan',\n",
       "        '207.swan', '207.swan', '207.swan', '207.swan', '207.swan',\n",
       "        '207.swan', '207.swan', '207.swan', '207.swan', '207.swan',\n",
       "        '207.swan', '207.swan', '207.swan', '207.swan', '207.swan',\n",
       "        '207.swan', '207.swan', '207.swan', '207.swan', '207.swan',\n",
       "        '207.swan', '207.swan', '207.swan', '207.swan', '207.swan',\n",
       "        '207.swan', '207.swan', '207.swan', '207.swan', '207.swan',\n",
       "        '207.swan', '207.swan', '207.swan', '207.swan', '207.swan',\n",
       "        '207.swan', '207.swan', '207.swan', '207.swan', '207.swan',\n",
       "        '207.swan', '207.swan', '207.swan', '207.swan', '207.swan',\n",
       "        '207.swan', '207.swan', '207.swan', '207.swan', '207.swan',\n",
       "        '207.swan', '207.swan', '207.swan', '207.swan', '207.swan',\n",
       "        '207.swan', '207.swan', '207.swan', '207.swan', '207.swan',\n",
       "        '207.swan', '207.swan', '207.swan', '207.swan', '207.swan',\n",
       "        '207.swan', '207.swan', '207.swan', '207.swan', '207.swan',\n",
       "        '207.swan', '207.swan', '207.swan', '207.swan', '207.swan',\n",
       "        '207.swan', '207.swan', '207.swan', '207.swan', '207.swan',\n",
       "        '207.swan', '207.swan', '207.swan', '207.swan', '207.swan',\n",
       "        '207.swan', '207.swan', '114.ibis-101', '207.swan', '207.swan',\n",
       "        '207.swan', '207.swan', '207.swan', '207.swan', '207.swan',\n",
       "        '207.swan', '207.swan', '207.swan', '256.toad', '158.penguin',\n",
       "        '256.toad', '207.swan', '256.toad', '256.toad', '256.toad',\n",
       "        '256.toad', '256.toad', '256.toad', '256.toad', '256.toad',\n",
       "        '080.frog', '256.toad', '080.frog', '256.toad', '256.toad',\n",
       "        '256.toad', '256.toad', '256.toad', '256.toad', '080.frog',\n",
       "        '080.frog', '256.toad', '256.toad', '256.toad', '080.frog',\n",
       "        '256.toad', '256.toad', '256.toad', '256.toad', '256.toad',\n",
       "        '256.toad', '256.toad', '256.toad', '256.toad', '256.toad',\n",
       "        '256.toad', '256.toad', '256.toad', '256.toad', '256.toad',\n",
       "        '256.toad', '256.toad', '256.toad', '256.toad', '256.toad',\n",
       "        '256.toad', '256.toad', '256.toad', '256.toad', '256.toad',\n",
       "        '256.toad', '256.toad', '256.toad', '080.frog', '256.toad',\n",
       "        '256.toad', '256.toad', '256.toad', '256.toad', '256.toad',\n",
       "        '256.toad', '256.toad', '256.toad', '256.toad', '256.toad',\n",
       "        '256.toad', '256.toad', '256.toad', '256.toad', '256.toad',\n",
       "        '256.toad', '256.toad', '256.toad', '256.toad', '256.toad',\n",
       "        '256.toad', '080.frog', '256.toad', '256.toad', '256.toad',\n",
       "        '256.toad', '256.toad', '256.toad', '256.toad', '256.toad',\n",
       "        '080.frog', '256.toad', '256.toad', '256.toad', '256.toad',\n",
       "        '256.toad', '080.frog', '256.toad', '256.toad', '256.toad',\n",
       "        '256.toad', '256.toad', '256.toad', '256.toad', '256.toad',\n",
       "        '256.toad', '256.toad', '256.toad', '256.toad', '256.toad',\n",
       "        '256.toad', '256.toad', '256.toad', '256.toad', '256.toad',\n",
       "        '080.frog', '207.swan', '080.frog', '207.swan', '158.penguin'],\n",
       "       dtype='<U12'),\n",
       " 'confident_joint': array([[117,   0,   0,   0,   3],\n",
       "        [  0, 123,   0,   0,   0],\n",
       "        [  0,   0, 156,   0,   0],\n",
       "        [  0,   0,   0, 121,   0],\n",
       "        [  8,   0,   0,   0, 107]]),\n",
       " 'classes_by_label_quality':      Class Name  Class Index  Label Issues  Inverse Label Issues  Label Noise  \\\n",
       " 0      256.toad            4             8                     3     0.069565   \n",
       " 1      080.frog            0             3                     8     0.025000   \n",
       " 2  114.ibis-101            1             0                     0     0.000000   \n",
       " 3   158.penguin            2             0                     0     0.000000   \n",
       " 4      207.swan            3             0                     0     0.000000   \n",
       " \n",
       "    Inverse Label Noise  Label Quality Score  \n",
       " 0             0.027273             0.930435  \n",
       " 1             0.064000             0.975000  \n",
       " 2             0.000000             1.000000  \n",
       " 3             0.000000             1.000000  \n",
       " 4             0.000000             1.000000  ,\n",
       " 'overlapping_classes':    Class Name A  Class Name B  Class Index A  Class Index B  \\\n",
       " 0      080.frog      256.toad              0              4   \n",
       " 1      080.frog  114.ibis-101              0              1   \n",
       " 2      080.frog   158.penguin              0              2   \n",
       " 3      080.frog      207.swan              0              3   \n",
       " 4  114.ibis-101   158.penguin              1              2   \n",
       " 5  114.ibis-101      207.swan              1              3   \n",
       " 6  114.ibis-101      256.toad              1              4   \n",
       " 7   158.penguin      207.swan              2              3   \n",
       " 8   158.penguin      256.toad              2              4   \n",
       " 9      207.swan      256.toad              3              4   \n",
       " \n",
       "    Num Overlapping Examples  Joint Probability  \n",
       " 0                        11           0.017323  \n",
       " 1                         0           0.000000  \n",
       " 2                         0           0.000000  \n",
       " 3                         0           0.000000  \n",
       " 4                         0           0.000000  \n",
       " 5                         0           0.000000  \n",
       " 6                         0           0.000000  \n",
       " 7                         0           0.000000  \n",
       " 8                         0           0.000000  \n",
       " 9                         0           0.000000  ,\n",
       " 'py': array([0.19685039, 0.19370079, 0.24566929, 0.19055118, 0.17322835]),\n",
       " 'noise_matrix': array([[0.936     , 0.        , 0.        , 0.        , 0.02727273],\n",
       "        [0.        , 1.        , 0.        , 0.        , 0.        ],\n",
       "        [0.        , 0.        , 1.        , 0.        , 0.        ],\n",
       "        [0.        , 0.        , 0.        , 1.        , 0.        ],\n",
       "        [0.064     , 0.        , 0.        , 0.        , 0.97272727]]),\n",
       " 'inverse_noise_matrix': array([[0.975     , 0.        , 0.        , 0.        , 0.06956522],\n",
       "        [0.        , 1.        , 0.        , 0.        , 0.        ],\n",
       "        [0.        , 0.        , 1.        , 0.        , 0.        ],\n",
       "        [0.        , 0.        , 0.        , 1.        , 0.        ],\n",
       "        [0.025     , 0.        , 0.        , 0.        , 0.93043478]]),\n",
       " 'class_names': ['080.frog',\n",
       "  '114.ibis-101',\n",
       "  '158.penguin',\n",
       "  '207.swan',\n",
       "  '256.toad']}"
      ]
     },
     "execution_count": 22,
     "metadata": {},
     "output_type": "execute_result"
    }
   ],
   "source": [
    "lab.get_info(\"label\")"
   ]
  },
  {
   "attachments": {},
   "cell_type": "markdown",
   "id": "aab99565-adaa-4614-ab7f-a6e0e11c78d7",
   "metadata": {},
   "source": [
    "## Run specific Datalab and cleanvision issues"
   ]
  },
  {
   "cell_type": "code",
   "execution_count": 23,
   "id": "cdf354fc-b0b0-4d3f-aae3-5b5c65fe199a",
   "metadata": {
    "tags": []
   },
   "outputs": [
    {
     "name": "stdout",
     "output_type": "stream",
     "text": [
      "Finding label issues ...\n",
      "Finding odd_aspect_ratio images ...\n"
     ]
    },
    {
     "name": "stderr",
     "output_type": "stream",
     "text": [
      "100%|██████████| 635/635 [00:11<00:00, 57.27it/s] "
     ]
    },
    {
     "name": "stdout",
     "output_type": "stream",
     "text": [
      "\n",
      "Audit complete. 12 issues found in the dataset.\n"
     ]
    },
    {
     "name": "stderr",
     "output_type": "stream",
     "text": [
      "\n"
     ]
    }
   ],
   "source": [
    "lab = Datalab(data=dataset, label_name=\"label\", image_key=\"image\")\n",
    "lab.find_issues(features=features, pred_probs=pred_probs, issue_types={\"label\": {}, \"image_issue_types\": {\"odd_aspect_ratio\": {}}})"
   ]
  },
  {
   "cell_type": "code",
   "execution_count": 24,
   "id": "5f81e90d-6e6c-42bc-83e6-6effd0889212",
   "metadata": {
    "tags": []
   },
   "outputs": [
    {
     "name": "stdout",
     "output_type": "stream",
     "text": [
      "Here is a summary of the different kinds of issues found in the data:\n",
      "\n",
      "      issue_type  num_issues\n",
      "           label          11\n",
      "odd_aspect_ratio           1\n",
      "\n",
      "Dataset Information: num_examples: 635, num_classes: 5\n",
      "\n",
      "\n",
      "----------------------- label issues -----------------------\n",
      "\n",
      "Number of examples with this issue: 11\n",
      "Overall dataset quality in terms of this issue: 0.9827\n",
      "\n",
      "Examples representing most severe instances of this issue:\n",
      "     is_label_issue  label_score given_label predicted_label\n",
      "539            True     0.022090    256.toad        080.frog\n",
      "9              True     0.022368    080.frog        256.toad\n",
      "44             True     0.025305    080.frog        256.toad\n",
      "611            True     0.040939    256.toad        080.frog\n",
      "98            False     0.043375    080.frog        207.swan\n",
      "\n",
      "\n",
      "\n",
      "----------------- odd_aspect_ratio images ------------------\n",
      "\n",
      "Number of examples with this issue: 1\n",
      "Examples representing most severe instances of this issue:\n",
      "\n"
     ]
    },
    {
     "data": {
      "image/png": "[encoded data removed]",
      "text/plain": [
       "<Figure size 200x200 with 1 Axes>"
      ]
     },
     "metadata": {},
     "output_type": "display_data"
    }
   ],
   "source": [
    "lab.report(include_description=False)"
   ]
  },
  {
   "attachments": {},
   "cell_type": "markdown",
   "id": "e9e995b6-5468-4e99-b180-9f85ee1ba0bd",
   "metadata": {},
   "source": [
    "## Incremental search"
   ]
  },
  {
   "cell_type": "code",
   "execution_count": 25,
   "id": "2c45c777-1a9b-495e-8434-881628324a13",
   "metadata": {
    "tags": []
   },
   "outputs": [
    {
     "name": "stdout",
     "output_type": "stream",
     "text": [
      "Finding label issues ...\n",
      "\n",
      "Audit complete. 11 issues found in the dataset.\n"
     ]
    }
   ],
   "source": [
    "lab = Datalab(data=dataset, label_name=\"label\", image_key=\"image\")\n",
    "lab.find_issues(features=features, pred_probs=pred_probs, issue_types={\"label\": {}})"
   ]
  },
  {
   "cell_type": "code",
   "execution_count": 26,
   "id": "026af02b-e99f-4db0-8dd1-07a3591d43c1",
   "metadata": {
    "tags": []
   },
   "outputs": [
    {
     "name": "stdout",
     "output_type": "stream",
     "text": [
      "Here is a summary of the different kinds of issues found in the data:\n",
      "\n",
      "issue_type  num_issues\n",
      "     label          11\n",
      "\n",
      "Dataset Information: num_examples: 635, num_classes: 5\n",
      "\n",
      "\n",
      "----------------------- label issues -----------------------\n",
      "\n",
      "Number of examples with this issue: 11\n",
      "Overall dataset quality in terms of this issue: 0.9827\n",
      "\n",
      "Examples representing most severe instances of this issue:\n",
      "     is_label_issue  label_score given_label predicted_label\n",
      "539            True     0.022090    256.toad        080.frog\n",
      "9              True     0.022368    080.frog        256.toad\n",
      "44             True     0.025305    080.frog        256.toad\n",
      "611            True     0.040939    256.toad        080.frog\n",
      "98            False     0.043375    080.frog        207.swan\n",
      "\n",
      "\n",
      "\n",
      "Please specify some issue_types to check for in imagelab.find_issues().\n"
     ]
    }
   ],
   "source": [
    "lab.report(include_description=False)"
   ]
  },
  {
   "cell_type": "code",
   "execution_count": 27,
   "id": "af0de0f1-b41a-4350-aacd-c094278dc92c",
   "metadata": {
    "tags": []
   },
   "outputs": [
    {
     "name": "stdout",
     "output_type": "stream",
     "text": [
      "Finding dark images ...\n"
     ]
    },
    {
     "name": "stderr",
     "output_type": "stream",
     "text": [
      "100%|██████████| 635/635 [00:21<00:00, 29.18it/s]\n"
     ]
    },
    {
     "name": "stdout",
     "output_type": "stream",
     "text": [
      "\n",
      "Audit complete. 11 issues found in the dataset.\n"
     ]
    }
   ],
   "source": [
    "lab.find_issues(issue_types={\"image_issue_types\": {\"dark\": {}}})"
   ]
  },
  {
   "cell_type": "code",
   "execution_count": 28,
   "id": "2415ca37",
   "metadata": {},
   "outputs": [
    {
     "name": "stdout",
     "output_type": "stream",
     "text": [
      "Finding dark images ...\n",
      "\n",
      "Audit complete. 11 issues found in the dataset.\n"
     ]
    },
    {
     "name": "stderr",
     "output_type": "stream",
     "text": [
      "/Users/sanjana/cleanlab_home/fork_cleanlab/cleanlab/datalab/adapter/imagelab.py:89: UserWarning: Overwriting columns ['is_dark_issue', 'dark_score'] in self.issues with columns from imagelab.\n",
      "  warnings.warn(\n",
      "/Users/sanjana/cleanlab_home/fork_cleanlab/cleanlab/datalab/adapter/imagelab.py:110: UserWarning: Overwriting ['dark'] rows in self.issue_summary from imagelab.\n",
      "  warnings.warn(\n",
      "/Users/sanjana/cleanlab_home/fork_cleanlab/cleanlab/datalab/data_issues.py:228: UserWarning: Overwriting key dark in self.info\n",
      "  warnings.warn(f\"Overwriting key {issue_name} in self.info\")\n"
     ]
    }
   ],
   "source": [
    "lab.find_issues(issue_types={\"image_issue_types\": {\"dark\": {}}})"
   ]
  },
  {
   "cell_type": "code",
   "execution_count": 29,
   "id": "28f46257-ec7c-4d4d-b1b8-794d52c0d8fa",
   "metadata": {
    "tags": []
   },
   "outputs": [
    {
     "name": "stdout",
     "output_type": "stream",
     "text": [
      "Here is a summary of the different kinds of issues found in the data:\n",
      "\n",
      "issue_type  num_issues\n",
      "     label          11\n",
      "      dark           0\n",
      "\n",
      "Dataset Information: num_examples: 635, num_classes: 5\n",
      "\n",
      "\n",
      "----------------------- label issues -----------------------\n",
      "\n",
      "Number of examples with this issue: 11\n",
      "Overall dataset quality in terms of this issue: 0.9827\n",
      "\n",
      "Examples representing most severe instances of this issue:\n",
      "     is_label_issue  label_score given_label predicted_label\n",
      "539            True     0.022090    256.toad        080.frog\n",
      "9              True     0.022368    080.frog        256.toad\n",
      "44             True     0.025305    080.frog        256.toad\n",
      "611            True     0.040939    256.toad        080.frog\n",
      "98            False     0.043375    080.frog        207.swan\n",
      "\n",
      "\n",
      "\n"
     ]
    }
   ],
   "source": [
    "lab.report(include_description=False)"
   ]
  }
 ],
 "metadata": {
  "kernelspec": {
   "display_name": "pkgtest",
   "language": "python",
   "name": "python3"
  },
  "language_info": {
   "codemirror_mode": {
    "name": "ipython",
    "version": 3
   },
   "file_extension": ".py",
   "mimetype": "text/x-python",
   "name": "python",
   "nbconvert_exporter": "python",
   "pygments_lexer": "ipython3",
   "version": "3.11.2"
  }
 },
 "nbformat": 4,
 "nbformat_minor": 5
}
